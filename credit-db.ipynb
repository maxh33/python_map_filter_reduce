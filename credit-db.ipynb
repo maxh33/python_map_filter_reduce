{
 "cells": [
  {
   "cell_type": "code",
   "execution_count": 3,
   "metadata": {},
   "outputs": [
    {
     "name": "stdout",
     "output_type": "stream",
     "text": [
      "Writing credit.csv\n"
     ]
    }
   ],
   "source": [
    "%%writefile credit.csv \n",
    "seller_id,loan_value,loans_quantity,data \n",
    "104271,448.0,1,20161208\n",
    "21476,826.7,3,20161208\n",
    "87440,313.6,3,20161208\n",
    "15980,-8008.0,6,20161208\n",
    "215906,2212.0,5,20161208\n",
    "33696,2771.3,2,20161208\n",
    "33893,2240.0,3,20161208\n",
    "214946,-4151.0,18,20161208\n",
    "123974,2021.95,2,20161208\n",
    "225870,4039.0,2,20161208 "
   ]
  },
  {
   "cell_type": "code",
   "execution_count": 8,
   "metadata": {},
   "outputs": [],
   "source": [
    "loans = []\n",
    "with open(file='./credit.csv', mode='r', encoding='utf-8') as fp:\n",
    "    fp.readline()\n",
    "    line = fp.readline()\n",
    "    while line:\n",
    "        line_loan = {}\n",
    "        line_elements = line.strip().strip(',')\n",
    "        line_loan['seller_id'] = line_elements[0]\n",
    "        line_loan['loan_value'] = line_elements[1]\n",
    "        line_loan['loans_quantity'] = line_elements[2]\n",
    "        line_loan['data'] = line_elements[3]\n",
    "        loans.append(line_loan)\n",
    "        line = fp.readline()"
   ]
  },
  {
   "cell_type": "code",
   "execution_count": 9,
   "metadata": {},
   "outputs": [
    {
     "name": "stdout",
     "output_type": "stream",
     "text": [
      "{'seller_id': '1', 'loan_value': '0', 'loans_quantity': '4', 'data': '2'}\n",
      "{'seller_id': '2', 'loan_value': '1', 'loans_quantity': '4', 'data': '7'}\n",
      "{'seller_id': '8', 'loan_value': '7', 'loans_quantity': '4', 'data': '4'}\n",
      "{'seller_id': '1', 'loan_value': '5', 'loans_quantity': '9', 'data': '8'}\n",
      "{'seller_id': '2', 'loan_value': '1', 'loans_quantity': '5', 'data': '9'}\n",
      "{'seller_id': '3', 'loan_value': '3', 'loans_quantity': '6', 'data': '9'}\n",
      "{'seller_id': '3', 'loan_value': '3', 'loans_quantity': '8', 'data': '9'}\n",
      "{'seller_id': '2', 'loan_value': '1', 'loans_quantity': '4', 'data': '9'}\n",
      "{'seller_id': '1', 'loan_value': '2', 'loans_quantity': '3', 'data': '9'}\n",
      "{'seller_id': '2', 'loan_value': '2', 'loans_quantity': '5', 'data': '8'}\n"
     ]
    }
   ],
   "source": [
    "for loan in loans:\n",
    "    print(loan)"
   ]
  },
  {
   "cell_type": "code",
   "execution_count": 16,
   "metadata": {},
   "outputs": [],
   "source": [
    "def extract_and_convert(loan):\n",
    "    return float(loan['loan_value'])\n",
    "\n",
    "loan_value_list = [\n",
    "    {'loan_value': '448.0'},\n",
    "    {'loan_value': '826.7'},\n",
    "    {'loan_value': '313.6'},\n",
    "    {'loan_value': '-8008.0'},\n",
    "    {'loan_value': '2212.0'},\n",
    "    {'loan_value': '2771.3'},\n",
    "    {'loan_value': '2240.0'},\n",
    "    {'loan_value': '-4151.0'},\n",
    "    {'loan_value': '2021.95'},\n",
    "    {'loan_value': '4039.0'}\n",
    "]\n",
    "\n",
    "loan_value_list = list(map(extract_and_convert, loan_value_list))"
   ]
  },
  {
   "cell_type": "code",
   "execution_count": 17,
   "metadata": {},
   "outputs": [
    {
     "name": "stdout",
     "output_type": "stream",
     "text": [
      "[448.0, 826.7, 313.6, -8008.0, 2212.0, 2771.3, 2240.0, -4151.0, 2021.95, 4039.0]\n"
     ]
    }
   ],
   "source": [
    "print(loan_value_list)"
   ]
  }
 ],
 "metadata": {
  "kernelspec": {
   "display_name": "Python 3",
   "language": "python",
   "name": "python3"
  },
  "language_info": {
   "codemirror_mode": {
    "name": "ipython",
    "version": 3
   },
   "file_extension": ".py",
   "mimetype": "text/x-python",
   "name": "python",
   "nbconvert_exporter": "python",
   "pygments_lexer": "ipython3",
   "version": "3.12.3"
  }
 },
 "nbformat": 4,
 "nbformat_minor": 2
}
